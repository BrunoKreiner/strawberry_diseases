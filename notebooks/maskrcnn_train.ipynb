{
 "cells": [
  {
   "cell_type": "code",
   "execution_count": 2,
   "metadata": {},
   "outputs": [
    {
     "name": "stderr",
     "output_type": "stream",
     "text": [
      "100%|██████████| 1450/1450 [00:00<00:00, 2258.38it/s]\n",
      "100%|██████████| 307/307 [00:00<00:00, 3697.48it/s]\n",
      "100%|██████████| 743/743 [00:00<00:00, 4083.30it/s]\n"
     ]
    }
   ],
   "source": [
    "import os\n",
    "os.environ[\"PYTORCH_CUDA_ALLOC_CONF\"] = \"max_split_size_mb:128\"\n",
    "import os\n",
    "import torch\n",
    "import pandas as pd\n",
    "import numpy as np\n",
    "import sys\n",
    "sys.path.append(\"../src\")\n",
    "from utils import simple_mean_average_precision, StrawberryDataset, collate_fn, get_transform, get_model, load_data, get_optimizer\n",
    "\n",
    "from torch.utils.data import DataLoader, random_split\n",
    "from torch.cuda.amp import GradScaler, autocast\n",
    "from tqdm import tqdm\n",
    "import gc\n",
    "\n",
    "train_dir = \"../strawberry/train/\"\n",
    "val_dir = \"../strawberry/val/\"\n",
    "test_dir = \"../strawberry/test/\"\n",
    "\n",
    "train_images, df_train_labels = load_data(train_dir)\n",
    "test_images, df_test_labels = load_data(val_dir)\n",
    "val_images, df_val_labels = load_data(test_dir)"
   ]
  },
  {
   "cell_type": "code",
   "execution_count": 3,
   "metadata": {},
   "outputs": [
    {
     "name": "stdout",
     "output_type": "stream",
     "text": [
      "cuda\n"
     ]
    },
    {
     "name": "stderr",
     "output_type": "stream",
     "text": [
      "c:\\Users\\bruno\\.conda\\envs\\my_env\\lib\\site-packages\\torchvision\\models\\_utils.py:208: UserWarning: The parameter 'pretrained' is deprecated since 0.13 and may be removed in the future, please use 'weights' instead.\n",
      "  warnings.warn(\n",
      "c:\\Users\\bruno\\.conda\\envs\\my_env\\lib\\site-packages\\torchvision\\models\\_utils.py:223: UserWarning: Arguments other than a weight enum or `None` for 'weights' are deprecated since 0.13 and may be removed in the future. The current behavior is equivalent to passing `weights=MaskRCNN_ResNet50_FPN_Weights.COCO_V1`. You can also use `weights=MaskRCNN_ResNet50_FPN_Weights.DEFAULT` to get the most up-to-date weights.\n",
      "  warnings.warn(msg)\n",
      "Training epoch 1/50: 100%|██████████| 725/725 [01:59<00:00,  6.08it/s]\n",
      "Validating epoch 1/50: 100%|██████████| 154/154 [00:33<00:00,  4.59it/s]\n",
      "C:\\Users\\bruno\\AppData\\Local\\Temp\\ipykernel_11200\\2608262362.py:131: FutureWarning: The frame.append method is deprecated and will be removed from pandas in a future version. Use pandas.concat instead.\n",
      "  history = history.append({\n"
     ]
    },
    {
     "name": "stdout",
     "output_type": "stream",
     "text": [
      "Epoch: 1, Train Loss: 1.2666958819243535, Val mAP: {'map': 0.006008303514909278, 'map_50': 0.02286094330032796, 'map_75': 0.0006617578504916511, 'map_small': -0.501628664495114, 'map_medium': -0.2671009771986971, 'map_large': -0.02577199842720156, 'mar_1': 0.003279432023387002, 'mar_10': 0.014806253513994744, 'mar_100': 0.024924262727122354, 'mar_small': -0.501628664495114, 'mar_medium': -0.2671009771986971, 'mar_large': -0.003991906340036796, 'map_per_class': -0.501628664495114, 'mar_100_per_class': -0.501628664495114}\n"
     ]
    },
    {
     "name": "stderr",
     "output_type": "stream",
     "text": [
      "Training epoch 2/50: 100%|██████████| 725/725 [01:35<00:00,  7.63it/s]\n",
      "Validating epoch 2/50: 100%|██████████| 154/154 [00:51<00:00,  2.98it/s]\n",
      "C:\\Users\\bruno\\AppData\\Local\\Temp\\ipykernel_11200\\2608262362.py:131: FutureWarning: The frame.append method is deprecated and will be removed from pandas in a future version. Use pandas.concat instead.\n",
      "  history = history.append({\n"
     ]
    },
    {
     "name": "stdout",
     "output_type": "stream",
     "text": [
      "Epoch: 2, Train Loss: 1.0364733126897048, Val mAP: {'map': 0.011450322520849371, 'map_50': 0.044022662631851846, 'map_75': 0.001788702772183993, 'map_small': -0.501628664495114, 'map_medium': -0.2671009771986971, 'map_large': -0.019618717777612545, 'mar_1': 0.004943345191036063, 'mar_10': 0.02789733774887234, 'mar_100': 0.05004129502982969, 'mar_small': -0.501628664495114, 'mar_medium': -0.2671009771986971, 'mar_large': 0.02502560227235676, 'map_per_class': -0.501628664495114, 'mar_100_per_class': -0.501628664495114}\n"
     ]
    },
    {
     "name": "stderr",
     "output_type": "stream",
     "text": [
      "Training epoch 3/50: 100%|██████████| 725/725 [01:39<00:00,  7.32it/s]\n",
      "Validating epoch 3/50: 100%|██████████| 154/154 [00:52<00:00,  2.94it/s]\n",
      "C:\\Users\\bruno\\AppData\\Local\\Temp\\ipykernel_11200\\2608262362.py:131: FutureWarning: The frame.append method is deprecated and will be removed from pandas in a future version. Use pandas.concat instead.\n",
      "  history = history.append({\n"
     ]
    },
    {
     "name": "stdout",
     "output_type": "stream",
     "text": [
      "Epoch: 3, Train Loss: 1.0143764390489574, Val mAP: {'map': 0.022658166357282707, 'map_50': 0.07139922896891542, 'map_75': 0.004943461293894616, 'map_small': -0.501628664495114, 'map_medium': -0.266656111428326, 'map_large': -0.006987633068320806, 'mar_1': 0.012675658887682986, 'mar_10': 0.039132602828333356, 'mar_100': 0.06168684819622226, 'mar_small': -0.501628664495114, 'mar_medium': -0.26619618568047637, 'mar_large': 0.039409929455685694, 'map_per_class': -0.501628664495114, 'mar_100_per_class': -0.501628664495114}\n"
     ]
    },
    {
     "name": "stderr",
     "output_type": "stream",
     "text": [
      "Training epoch 4/50: 100%|██████████| 725/725 [01:33<00:00,  7.79it/s]\n",
      "Validating epoch 4/50: 100%|██████████| 154/154 [00:51<00:00,  3.01it/s]\n",
      "C:\\Users\\bruno\\AppData\\Local\\Temp\\ipykernel_11200\\2608262362.py:131: FutureWarning: The frame.append method is deprecated and will be removed from pandas in a future version. Use pandas.concat instead.\n",
      "  history = history.append({\n"
     ]
    },
    {
     "name": "stdout",
     "output_type": "stream",
     "text": [
      "Epoch: 4, Train Loss: 0.9874958873164555, Val mAP: {'map': 0.03302350184039883, 'map_50': 0.09442017521066075, 'map_75': 0.0137298565345789, 'map_small': -0.501628664495114, 'map_medium': -0.26622034128791733, 'map_large': 0.005072622811755451, 'mar_1': 0.020083014273876477, 'mar_10': 0.05479138526543732, 'mar_100': 0.07435496699926519, 'mar_small': -0.501628664495114, 'mar_medium': -0.26452097442328737, 'mar_large': 0.05375019657495356, 'map_per_class': -0.501628664495114, 'mar_100_per_class': -0.501628664495114}\n"
     ]
    },
    {
     "name": "stderr",
     "output_type": "stream",
     "text": [
      "Training epoch 5/50: 100%|██████████| 725/725 [01:34<00:00,  7.66it/s]\n",
      "Validating epoch 5/50: 100%|██████████| 154/154 [00:50<00:00,  3.05it/s]\n",
      "C:\\Users\\bruno\\AppData\\Local\\Temp\\ipykernel_11200\\2608262362.py:131: FutureWarning: The frame.append method is deprecated and will be removed from pandas in a future version. Use pandas.concat instead.\n",
      "  history = history.append({\n"
     ]
    },
    {
     "name": "stdout",
     "output_type": "stream",
     "text": [
      "Epoch: 5, Train Loss: 0.9665347108073512, Val mAP: {'map': 0.03922171390794388, 'map_50': 0.10930219768312932, 'map_75': 0.01918930650145689, 'map_small': -0.501628664495114, 'map_medium': -0.2653880414434675, 'map_large': 0.012517045297529488, 'mar_1': 0.02494900389680645, 'mar_10': 0.06291933090756693, 'mar_100': 0.08127935080264212, 'mar_small': -0.501628664495114, 'mar_medium': -0.2616067942268297, 'mar_large': 0.06168411453694397, 'map_per_class': -0.501628664495114, 'mar_100_per_class': -0.501628664495114}\n"
     ]
    },
    {
     "name": "stderr",
     "output_type": "stream",
     "text": [
      "Training epoch 6/50: 100%|██████████| 725/725 [01:31<00:00,  7.89it/s]\n",
      "Validating epoch 6/50: 100%|██████████| 154/154 [00:47<00:00,  3.25it/s]\n",
      "C:\\Users\\bruno\\AppData\\Local\\Temp\\ipykernel_11200\\2608262362.py:131: FutureWarning: The frame.append method is deprecated and will be removed from pandas in a future version. Use pandas.concat instead.\n",
      "  history = history.append({\n"
     ]
    },
    {
     "name": "stdout",
     "output_type": "stream",
     "text": [
      "Epoch: 6, Train Loss: 0.9524201342269019, Val mAP: {'map': 0.046061904111980224, 'map_50': 0.12534877764673885, 'map_75': 0.0286772041445058, 'map_small': -0.501628664495114, 'map_medium': -0.26519621311647495, 'map_large': 0.02048132551609499, 'mar_1': 0.02892876603316018, 'mar_10': 0.07150082168827616, 'mar_100': 0.08783437374748702, 'mar_small': -0.501628664495114, 'mar_medium': -0.2616196921283337, 'mar_large': 0.069329532039282, 'map_per_class': -0.501628664495114, 'mar_100_per_class': -0.501628664495114}\n"
     ]
    },
    {
     "name": "stderr",
     "output_type": "stream",
     "text": [
      "Training epoch 7/50: 100%|██████████| 725/725 [01:30<00:00,  7.98it/s]\n",
      "Validating epoch 7/50: 100%|██████████| 154/154 [00:53<00:00,  2.87it/s]\n",
      "C:\\Users\\bruno\\AppData\\Local\\Temp\\ipykernel_11200\\2608262362.py:131: FutureWarning: The frame.append method is deprecated and will be removed from pandas in a future version. Use pandas.concat instead.\n",
      "  history = history.append({\n"
     ]
    },
    {
     "name": "stdout",
     "output_type": "stream",
     "text": [
      "Epoch: 7, Train Loss: 0.942651120273617, Val mAP: {'map': 0.054013006850251934, 'map_50': 0.1389379967307423, 'map_75': 0.03412462290412828, 'map_small': -0.501628664495114, 'map_medium': -0.26422250853299317, 'map_large': 0.031840433126940404, 'mar_1': 0.034653887298285765, 'mar_10': 0.08385481818879466, 'mar_100': 0.10398170148122582, 'mar_small': -0.501628664495114, 'mar_medium': -0.26082611083984375, 'mar_large': 0.08931221480478294, 'map_per_class': -0.501628664495114, 'mar_100_per_class': -0.501628664495114}\n"
     ]
    },
    {
     "name": "stderr",
     "output_type": "stream",
     "text": [
      "Training epoch 8/50: 100%|██████████| 725/725 [01:42<00:00,  7.08it/s]\n",
      "Validating epoch 8/50: 100%|██████████| 154/154 [00:52<00:00,  2.96it/s]\n",
      "C:\\Users\\bruno\\AppData\\Local\\Temp\\ipykernel_11200\\2608262362.py:131: FutureWarning: The frame.append method is deprecated and will be removed from pandas in a future version. Use pandas.concat instead.\n",
      "  history = history.append({\n"
     ]
    },
    {
     "name": "stdout",
     "output_type": "stream",
     "text": [
      "Epoch: 8, Train Loss: 0.9237091275465678, Val mAP: {'map': 0.06231037723901606, 'map_50': 0.1623361568885828, 'map_75': 0.03653365703669744, 'map_small': -0.501628664495114, 'map_medium': -0.2630014574877214, 'map_large': 0.04062042795485705, 'mar_1': 0.0404308083003041, 'mar_10': 0.09260358406588776, 'mar_100': 0.11169687078519443, 'mar_small': -0.501628664495114, 'mar_medium': -0.25932411417510687, 'mar_large': 0.09645752798074231, 'map_per_class': -0.501628664495114, 'mar_100_per_class': -0.501628664495114}\n"
     ]
    },
    {
     "name": "stderr",
     "output_type": "stream",
     "text": [
      "Training epoch 9/50: 100%|██████████| 725/725 [01:41<00:00,  7.15it/s]\n",
      "Validating epoch 9/50: 100%|██████████| 154/154 [01:00<00:00,  2.53it/s]\n",
      "C:\\Users\\bruno\\AppData\\Local\\Temp\\ipykernel_11200\\2608262362.py:131: FutureWarning: The frame.append method is deprecated and will be removed from pandas in a future version. Use pandas.concat instead.\n",
      "  history = history.append({\n"
     ]
    },
    {
     "name": "stdout",
     "output_type": "stream",
     "text": [
      "Epoch: 9, Train Loss: 0.906502753052958, Val mAP: {'map': 0.07493264512052754, 'map_50': 0.1869302929806787, 'map_75': 0.04952133129008041, 'map_small': -0.501628664495114, 'map_medium': -0.2582101977220964, 'map_large': 0.05741714576944854, 'mar_1': 0.0489098800510071, 'mar_10': 0.11205401094418006, 'mar_100': 0.13374035366195033, 'mar_small': -0.501628664495114, 'mar_medium': -0.2521615292427983, 'mar_large': 0.12290340759078532, 'map_per_class': -0.501628664495114, 'mar_100_per_class': -0.501628664495114}\n"
     ]
    },
    {
     "name": "stderr",
     "output_type": "stream",
     "text": [
      "Training epoch 10/50: 100%|██████████| 725/725 [01:41<00:00,  7.11it/s]\n",
      "Validating epoch 10/50: 100%|██████████| 154/154 [00:55<00:00,  2.78it/s]\n",
      "C:\\Users\\bruno\\AppData\\Local\\Temp\\ipykernel_11200\\2608262362.py:131: FutureWarning: The frame.append method is deprecated and will be removed from pandas in a future version. Use pandas.concat instead.\n",
      "  history = history.append({\n"
     ]
    },
    {
     "name": "stdout",
     "output_type": "stream",
     "text": [
      "Epoch: 10, Train Loss: 0.8851271699600887, Val mAP: {'map': 0.08544339729830963, 'map_50': 0.21488010766840138, 'map_75': 0.051160908677290624, 'map_small': -0.501628664495114, 'map_medium': -0.2569666809678466, 'map_large': 0.06788777528445962, 'mar_1': 0.05350969047422129, 'mar_10': 0.11950702232335988, 'mar_100': 0.13922839832616551, 'mar_small': -0.501628664495114, 'mar_medium': -0.25066298692933126, 'mar_large': 0.12687905525928211, 'map_per_class': -0.501628664495114, 'mar_100_per_class': -0.501628664495114}\n"
     ]
    },
    {
     "name": "stderr",
     "output_type": "stream",
     "text": [
      "Training epoch 11/50: 100%|██████████| 725/725 [01:41<00:00,  7.12it/s]\n",
      "Validating epoch 11/50: 100%|██████████| 154/154 [00:55<00:00,  2.79it/s]\n",
      "C:\\Users\\bruno\\AppData\\Local\\Temp\\ipykernel_11200\\2608262362.py:131: FutureWarning: The frame.append method is deprecated and will be removed from pandas in a future version. Use pandas.concat instead.\n",
      "  history = history.append({\n"
     ]
    },
    {
     "name": "stdout",
     "output_type": "stream",
     "text": [
      "Epoch: 11, Train Loss: 0.8665523167652112, Val mAP: {'map': 0.09162207612773883, 'map_50': 0.22441506152820898, 'map_75': 0.06145069109888729, 'map_small': -0.501628664495114, 'map_medium': -0.2549120378028298, 'map_large': 0.07307962796587121, 'mar_1': 0.06143113922218547, 'mar_10': 0.12867011154125102, 'mar_100': 0.146551809404106, 'mar_small': -0.501628664495114, 'mar_medium': -0.2437960845251425, 'mar_large': 0.1311120272459347, 'map_per_class': -0.501628664495114, 'mar_100_per_class': -0.501628664495114}\n"
     ]
    },
    {
     "name": "stderr",
     "output_type": "stream",
     "text": [
      "Training epoch 12/50: 100%|██████████| 725/725 [01:43<00:00,  7.01it/s]\n",
      "Validating epoch 12/50: 100%|██████████| 154/154 [00:50<00:00,  3.03it/s]\n",
      "C:\\Users\\bruno\\AppData\\Local\\Temp\\ipykernel_11200\\2608262362.py:131: FutureWarning: The frame.append method is deprecated and will be removed from pandas in a future version. Use pandas.concat instead.\n",
      "  history = history.append({\n"
     ]
    },
    {
     "name": "stdout",
     "output_type": "stream",
     "text": [
      "Epoch: 12, Train Loss: 0.850053595598356, Val mAP: {'map': 0.10168676345278463, 'map_50': 0.23264695456439588, 'map_75': 0.06830204270949969, 'map_small': -0.501628664495114, 'map_medium': -0.2522355368548962, 'map_large': 0.08354774127177385, 'mar_1': 0.06965258222449486, 'mar_10': 0.13804366767212312, 'mar_100': 0.1532295798634085, 'mar_small': -0.501628664495114, 'mar_medium': -0.24426530471453836, 'mar_large': 0.13884091454919076, 'map_per_class': -0.501628664495114, 'mar_100_per_class': -0.501628664495114}\n"
     ]
    },
    {
     "name": "stderr",
     "output_type": "stream",
     "text": [
      "Training epoch 13/50: 100%|██████████| 725/725 [01:38<00:00,  7.39it/s]\n",
      "Validating epoch 13/50: 100%|██████████| 154/154 [00:45<00:00,  3.36it/s]\n",
      "C:\\Users\\bruno\\AppData\\Local\\Temp\\ipykernel_11200\\2608262362.py:131: FutureWarning: The frame.append method is deprecated and will be removed from pandas in a future version. Use pandas.concat instead.\n",
      "  history = history.append({\n"
     ]
    },
    {
     "name": "stdout",
     "output_type": "stream",
     "text": [
      "Epoch: 13, Train Loss: 0.8247504990943002, Val mAP: {'map': 0.10726185652642763, 'map_50': 0.23936696005954805, 'map_75': 0.07476299049799916, 'map_small': -0.501628664495114, 'map_medium': -0.25152622682652176, 'map_large': 0.09047539925342274, 'mar_1': 0.06977487620002672, 'mar_10': 0.14225243434843876, 'mar_100': 0.1586382490027611, 'mar_small': -0.501628664495114, 'mar_medium': -0.23924036678351487, 'mar_large': 0.14225054563839196, 'map_per_class': -0.501628664495114, 'mar_100_per_class': -0.501628664495114}\n"
     ]
    },
    {
     "name": "stderr",
     "output_type": "stream",
     "text": [
      "Training epoch 14/50: 100%|██████████| 725/725 [01:31<00:00,  7.94it/s]\n",
      "Validating epoch 14/50: 100%|██████████| 154/154 [00:56<00:00,  2.72it/s]\n",
      "C:\\Users\\bruno\\AppData\\Local\\Temp\\ipykernel_11200\\2608262362.py:131: FutureWarning: The frame.append method is deprecated and will be removed from pandas in a future version. Use pandas.concat instead.\n",
      "  history = history.append({\n"
     ]
    },
    {
     "name": "stdout",
     "output_type": "stream",
     "text": [
      "Epoch: 14, Train Loss: 0.8115137727586706, Val mAP: {'map': 0.11143026445121641, 'map_50': 0.248016357421875, 'map_75': 0.08238857033198353, 'map_small': -0.501628664495114, 'map_medium': -0.24903489401752088, 'map_large': 0.09527757501757494, 'mar_1': 0.07205195846309102, 'mar_10': 0.14868446126434626, 'mar_100': 0.16622437716307004, 'mar_small': -0.501628664495114, 'mar_medium': -0.2346178732011528, 'mar_large': 0.15003765988427575, 'map_per_class': -0.501628664495114, 'mar_100_per_class': -0.501628664495114}\n"
     ]
    },
    {
     "name": "stderr",
     "output_type": "stream",
     "text": [
      "Training epoch 15/50: 100%|██████████| 725/725 [01:32<00:00,  7.81it/s]\n",
      "Validating epoch 15/50: 100%|██████████| 154/154 [00:49<00:00,  3.09it/s]\n",
      "C:\\Users\\bruno\\AppData\\Local\\Temp\\ipykernel_11200\\2608262362.py:131: FutureWarning: The frame.append method is deprecated and will be removed from pandas in a future version. Use pandas.concat instead.\n",
      "  history = history.append({\n"
     ]
    },
    {
     "name": "stdout",
     "output_type": "stream",
     "text": [
      "Epoch: 15, Train Loss: 0.7932356330245405, Val mAP: {'map': 0.11607350899264557, 'map_50': 0.251954715492671, 'map_75': 0.08536871248425412, 'map_small': -0.501628664495114, 'map_medium': -0.25005517021452567, 'map_large': 0.10164915078626005, 'mar_1': 0.07694279798079003, 'mar_10': 0.14975717401659838, 'mar_100': 0.16691257588638156, 'mar_small': -0.501628664495114, 'mar_medium': -0.23481695815095685, 'mar_large': 0.15251460370489361, 'map_per_class': -0.501628664495114, 'mar_100_per_class': -0.501628664495114}\n"
     ]
    },
    {
     "name": "stderr",
     "output_type": "stream",
     "text": [
      "Training epoch 16/50: 100%|██████████| 725/725 [01:31<00:00,  7.95it/s]\n",
      "Validating epoch 16/50: 100%|██████████| 154/154 [00:46<00:00,  3.29it/s]\n",
      "C:\\Users\\bruno\\AppData\\Local\\Temp\\ipykernel_11200\\2608262362.py:131: FutureWarning: The frame.append method is deprecated and will be removed from pandas in a future version. Use pandas.concat instead.\n",
      "  history = history.append({\n"
     ]
    },
    {
     "name": "stdout",
     "output_type": "stream",
     "text": [
      "Epoch: 16, Train Loss: 0.7765784499780005, Val mAP: {'map': 0.12099296495269875, 'map_50': 0.26494511408603927, 'map_75': 0.09133918588246895, 'map_small': -0.501628664495114, 'map_medium': -0.24948338809929763, 'map_large': 0.10649031847229998, 'mar_1': 0.07727908777491665, 'mar_10': 0.1600439463065579, 'mar_100': 0.17538028431249364, 'mar_small': -0.501628664495114, 'mar_medium': -0.22818917637927524, 'mar_large': 0.1576637615986678, 'map_per_class': -0.501628664495114, 'mar_100_per_class': -0.501628664495114}\n"
     ]
    },
    {
     "name": "stderr",
     "output_type": "stream",
     "text": [
      "Training epoch 17/50: 100%|██████████| 725/725 [01:28<00:00,  8.19it/s]\n",
      "Validating epoch 17/50: 100%|██████████| 154/154 [00:48<00:00,  3.19it/s]\n",
      "C:\\Users\\bruno\\AppData\\Local\\Temp\\ipykernel_11200\\2608262362.py:131: FutureWarning: The frame.append method is deprecated and will be removed from pandas in a future version. Use pandas.concat instead.\n",
      "  history = history.append({\n"
     ]
    },
    {
     "name": "stdout",
     "output_type": "stream",
     "text": [
      "Epoch: 17, Train Loss: 0.762201959212739, Val mAP: {'map': 0.12348816216186126, 'map_50': 0.2649303026230405, 'map_75': 0.0999940505633525, 'map_small': -0.501628664495114, 'map_medium': -0.24912065636451547, 'map_large': 0.10934743974418516, 'mar_1': 0.08037760358679955, 'mar_10': 0.16006699602456356, 'mar_100': 0.17443390389607086, 'mar_small': -0.501628664495114, 'mar_medium': -0.23025711506896376, 'mar_large': 0.15521984535242137, 'map_per_class': -0.501628664495114, 'mar_100_per_class': -0.501628664495114}\n"
     ]
    },
    {
     "name": "stderr",
     "output_type": "stream",
     "text": [
      "Training epoch 18/50: 100%|██████████| 725/725 [01:28<00:00,  8.17it/s]\n",
      "Validating epoch 18/50: 100%|██████████| 154/154 [00:46<00:00,  3.33it/s]\n",
      "C:\\Users\\bruno\\AppData\\Local\\Temp\\ipykernel_11200\\2608262362.py:131: FutureWarning: The frame.append method is deprecated and will be removed from pandas in a future version. Use pandas.concat instead.\n",
      "  history = history.append({\n"
     ]
    },
    {
     "name": "stdout",
     "output_type": "stream",
     "text": [
      "Epoch: 18, Train Loss: 0.7502959716690515, Val mAP: {'map': 0.13092981642931215, 'map_50': 0.27395796387514, 'map_75': 0.10560441405454754, 'map_small': -0.501628664495114, 'map_medium': -0.24305556107809956, 'map_large': 0.11580405716787331, 'mar_1': 0.08441134151496017, 'mar_10': 0.16967589536784913, 'mar_100': 0.18379476093702285, 'mar_small': -0.501628664495114, 'mar_medium': -0.2206836911676761, 'mar_large': 0.16173154601056725, 'map_per_class': -0.501628664495114, 'mar_100_per_class': -0.501628664495114}\n"
     ]
    },
    {
     "name": "stderr",
     "output_type": "stream",
     "text": [
      "Training epoch 19/50: 100%|██████████| 725/725 [01:28<00:00,  8.17it/s]\n",
      "Validating epoch 19/50: 100%|██████████| 154/154 [00:41<00:00,  3.71it/s]\n",
      "C:\\Users\\bruno\\AppData\\Local\\Temp\\ipykernel_11200\\2608262362.py:131: FutureWarning: The frame.append method is deprecated and will be removed from pandas in a future version. Use pandas.concat instead.\n",
      "  history = history.append({\n"
     ]
    },
    {
     "name": "stdout",
     "output_type": "stream",
     "text": [
      "Epoch: 19, Train Loss: 0.7400183458863847, Val mAP: {'map': 0.13662104653224882, 'map_50': 0.2815026149687627, 'map_75': 0.11551879982218292, 'map_small': -0.501628664495114, 'map_medium': -0.24009485897101487, 'map_large': 0.12003593569081458, 'mar_1': 0.08743895614574321, 'mar_10': 0.1730450682997315, 'mar_100': 0.18263981474338992, 'mar_small': -0.501628664495114, 'mar_medium': -0.22180809493173606, 'mar_large': 0.15964253329298783, 'map_per_class': -0.501628664495114, 'mar_100_per_class': -0.501628664495114}\n"
     ]
    },
    {
     "name": "stderr",
     "output_type": "stream",
     "text": [
      "Training epoch 20/50: 100%|██████████| 725/725 [01:28<00:00,  8.18it/s]\n",
      "Validating epoch 20/50: 100%|██████████| 154/154 [00:47<00:00,  3.23it/s]\n",
      "C:\\Users\\bruno\\AppData\\Local\\Temp\\ipykernel_11200\\2608262362.py:131: FutureWarning: The frame.append method is deprecated and will be removed from pandas in a future version. Use pandas.concat instead.\n",
      "  history = history.append({\n"
     ]
    },
    {
     "name": "stdout",
     "output_type": "stream",
     "text": [
      "Epoch: 20, Train Loss: 0.7297557472538706, Val mAP: {'map': 0.13807130248228192, 'map_50': 0.2872414107431418, 'map_75': 0.11217675224577565, 'map_small': -0.501628664495114, 'map_medium': -0.23930162560279672, 'map_large': 0.12084202968336472, 'mar_1': 0.08940912302619859, 'mar_10': 0.17393547082956917, 'mar_100': 0.19053948119719563, 'mar_small': -0.501628664495114, 'mar_medium': -0.21546988223197017, 'mar_large': 0.1666442920796646, 'map_per_class': -0.501628664495114, 'mar_100_per_class': -0.501628664495114}\n"
     ]
    },
    {
     "name": "stderr",
     "output_type": "stream",
     "text": [
      "Training epoch 21/50: 100%|██████████| 725/725 [01:28<00:00,  8.19it/s]\n",
      "Validating epoch 21/50: 100%|██████████| 154/154 [00:48<00:00,  3.20it/s]\n",
      "C:\\Users\\bruno\\AppData\\Local\\Temp\\ipykernel_11200\\2608262362.py:131: FutureWarning: The frame.append method is deprecated and will be removed from pandas in a future version. Use pandas.concat instead.\n",
      "  history = history.append({\n"
     ]
    },
    {
     "name": "stdout",
     "output_type": "stream",
     "text": [
      "Epoch: 21, Train Loss: 0.7151866985184138, Val mAP: {'map': 0.13558763634498422, 'map_50': 0.29205540958367265, 'map_75': 0.10500402792268933, 'map_small': -0.501628664495114, 'map_medium': -0.23687694437729032, 'map_large': 0.1147595880862556, 'mar_1': 0.08604196306160296, 'mar_10': 0.1757046081344157, 'mar_100': 0.18770451499118868, 'mar_small': -0.501628664495114, 'mar_medium': -0.21530243317545042, 'mar_large': 0.16092331479349042, 'map_per_class': -0.501628664495114, 'mar_100_per_class': -0.501628664495114}\n"
     ]
    },
    {
     "name": "stderr",
     "output_type": "stream",
     "text": [
      "Training epoch 22/50: 100%|██████████| 725/725 [01:28<00:00,  8.20it/s]\n",
      "Validating epoch 22/50: 100%|██████████| 154/154 [00:44<00:00,  3.47it/s]\n",
      "C:\\Users\\bruno\\AppData\\Local\\Temp\\ipykernel_11200\\2608262362.py:131: FutureWarning: The frame.append method is deprecated and will be removed from pandas in a future version. Use pandas.concat instead.\n",
      "  history = history.append({\n"
     ]
    },
    {
     "name": "stdout",
     "output_type": "stream",
     "text": [
      "Epoch: 22, Train Loss: 0.7013598546336377, Val mAP: {'map': 0.14199525913897088, 'map_50': 0.29606156240457043, 'map_75': 0.11668254342840238, 'map_small': -0.501628664495114, 'map_medium': -0.2370152426853242, 'map_large': 0.12267257491618104, 'mar_1': 0.09035857880930948, 'mar_10': 0.1784934624786874, 'mar_100': 0.1901159752463673, 'mar_small': -0.501628664495114, 'mar_medium': -0.2145499561819269, 'mar_large': 0.16460095632348076, 'map_per_class': -0.501628664495114, 'mar_100_per_class': -0.501628664495114}\n"
     ]
    },
    {
     "name": "stderr",
     "output_type": "stream",
     "text": [
      "Training epoch 23/50: 100%|██████████| 725/725 [01:27<00:00,  8.26it/s]\n",
      "Validating epoch 23/50: 100%|██████████| 154/154 [00:38<00:00,  3.99it/s]\n",
      "C:\\Users\\bruno\\AppData\\Local\\Temp\\ipykernel_11200\\2608262362.py:131: FutureWarning: The frame.append method is deprecated and will be removed from pandas in a future version. Use pandas.concat instead.\n",
      "  history = history.append({\n"
     ]
    },
    {
     "name": "stdout",
     "output_type": "stream",
     "text": [
      "Epoch: 23, Train Loss: 0.6907019084928808, Val mAP: {'map': 0.14844145138022954, 'map_50': 0.30109112270491906, 'map_75': 0.12547379285582502, 'map_small': -0.501628664495114, 'map_medium': -0.23417601445598787, 'map_large': 0.12979345911877163, 'mar_1': 0.09449508368774812, 'mar_10': 0.1823390003912612, 'mar_100': 0.1917170546342185, 'mar_small': -0.501628664495114, 'mar_medium': -0.21369849587108103, 'mar_large': 0.1658749409529596, 'map_per_class': -0.501628664495114, 'mar_100_per_class': -0.501628664495114}\n"
     ]
    },
    {
     "name": "stderr",
     "output_type": "stream",
     "text": [
      "Training epoch 24/50: 100%|██████████| 725/725 [01:27<00:00,  8.28it/s]\n",
      "Validating epoch 24/50: 100%|██████████| 154/154 [00:42<00:00,  3.62it/s]\n",
      "C:\\Users\\bruno\\AppData\\Local\\Temp\\ipykernel_11200\\2608262362.py:131: FutureWarning: The frame.append method is deprecated and will be removed from pandas in a future version. Use pandas.concat instead.\n",
      "  history = history.append({\n"
     ]
    },
    {
     "name": "stdout",
     "output_type": "stream",
     "text": [
      "Epoch: 24, Train Loss: 0.6789395882627483, Val mAP: {'map': 0.15157258471759213, 'map_50': 0.3057116033199944, 'map_75': 0.13369890144671212, 'map_small': -0.501628664495114, 'map_medium': -0.2315835859565859, 'map_large': 0.1314355309700733, 'mar_1': 0.0949859681269245, 'mar_10': 0.18522412924502493, 'mar_100': 0.19724976977618588, 'mar_small': -0.501628664495114, 'mar_medium': -0.20777625913340417, 'mar_large': 0.16949629395326496, 'map_per_class': -0.501628664495114, 'mar_100_per_class': -0.501628664495114}\n"
     ]
    },
    {
     "name": "stderr",
     "output_type": "stream",
     "text": [
      "Training epoch 25/50: 100%|██████████| 725/725 [01:27<00:00,  8.29it/s]\n",
      "Validating epoch 25/50: 100%|██████████| 154/154 [00:41<00:00,  3.72it/s]\n",
      "C:\\Users\\bruno\\AppData\\Local\\Temp\\ipykernel_11200\\2608262362.py:131: FutureWarning: The frame.append method is deprecated and will be removed from pandas in a future version. Use pandas.concat instead.\n",
      "  history = history.append({\n"
     ]
    },
    {
     "name": "stdout",
     "output_type": "stream",
     "text": [
      "Epoch: 25, Train Loss: 0.6742705826265302, Val mAP: {'map': 0.15463902973585097, 'map_50': 0.30818568922409406, 'map_75': 0.13549031807467682, 'map_small': -0.501628664495114, 'map_medium': -0.23132721841917753, 'map_large': 0.13385342775027992, 'mar_1': 0.09694963014086994, 'mar_10': 0.18912893786104185, 'mar_100': 0.1997169966806418, 'mar_small': -0.501628664495114, 'mar_medium': -0.20811564293280488, 'mar_large': 0.1709736255558772, 'map_per_class': -0.501628664495114, 'mar_100_per_class': -0.501628664495114}\n"
     ]
    },
    {
     "name": "stderr",
     "output_type": "stream",
     "text": [
      "Training epoch 26/50: 100%|██████████| 725/725 [01:27<00:00,  8.29it/s]\n",
      "Validating epoch 26/50: 100%|██████████| 154/154 [00:43<00:00,  3.56it/s]\n",
      "C:\\Users\\bruno\\AppData\\Local\\Temp\\ipykernel_11200\\2608262362.py:131: FutureWarning: The frame.append method is deprecated and will be removed from pandas in a future version. Use pandas.concat instead.\n",
      "  history = history.append({\n"
     ]
    },
    {
     "name": "stdout",
     "output_type": "stream",
     "text": [
      "Epoch: 26, Train Loss: 0.6615242397211577, Val mAP: {'map': 0.1575123293003741, 'map_50': 0.31450108829461015, 'map_75': 0.1394521359123702, 'map_small': -0.501628664495114, 'map_medium': -0.23158443090581737, 'map_large': 0.13803409986464907, 'mar_1': 0.09832191467285156, 'mar_10': 0.19199855941126323, 'mar_100': 0.20350685492400625, 'mar_small': -0.501628664495114, 'mar_medium': -0.20827967491522675, 'mar_large': 0.17711285271163096, 'map_per_class': -0.501628664495114, 'mar_100_per_class': -0.501628664495114}\n"
     ]
    },
    {
     "name": "stderr",
     "output_type": "stream",
     "text": [
      "Training epoch 27/50: 100%|██████████| 725/725 [01:27<00:00,  8.32it/s]\n",
      "Validating epoch 27/50: 100%|██████████| 154/154 [00:41<00:00,  3.67it/s]\n",
      "C:\\Users\\bruno\\AppData\\Local\\Temp\\ipykernel_11200\\2608262362.py:131: FutureWarning: The frame.append method is deprecated and will be removed from pandas in a future version. Use pandas.concat instead.\n",
      "  history = history.append({\n"
     ]
    },
    {
     "name": "stdout",
     "output_type": "stream",
     "text": [
      "Epoch: 27, Train Loss: 0.6550654736363531, Val mAP: {'map': 0.16116694596380676, 'map_50': 0.3113602380410856, 'map_75': 0.1502395033448061, 'map_small': -0.501628664495114, 'map_medium': -0.23020636841217937, 'map_large': 0.13902244195099375, 'mar_1': 0.10162646141425018, 'mar_10': 0.1922636249554662, 'mar_100': 0.20386761096867365, 'mar_small': -0.501628664495114, 'mar_medium': -0.2087762192716816, 'mar_large': 0.1777620098101588, 'map_per_class': -0.501628664495114, 'mar_100_per_class': -0.501628664495114}\n"
     ]
    },
    {
     "name": "stderr",
     "output_type": "stream",
     "text": [
      "Training epoch 28/50: 100%|██████████| 725/725 [01:27<00:00,  8.31it/s]\n",
      "Validating epoch 28/50: 100%|██████████| 154/154 [00:43<00:00,  3.54it/s]\n",
      "C:\\Users\\bruno\\AppData\\Local\\Temp\\ipykernel_11200\\2608262362.py:131: FutureWarning: The frame.append method is deprecated and will be removed from pandas in a future version. Use pandas.concat instead.\n",
      "  history = history.append({\n"
     ]
    },
    {
     "name": "stdout",
     "output_type": "stream",
     "text": [
      "Epoch: 28, Train Loss: 0.6407362016818432, Val mAP: {'map': 0.16092018351104437, 'map_50': 0.3136851904058301, 'map_75': 0.14629400048271451, 'map_small': -0.501628664495114, 'map_medium': -0.23143818013442843, 'map_large': 0.14220495565706434, 'mar_1': 0.10121610187940566, 'mar_10': 0.19299215757885663, 'mar_100': 0.20428108936024023, 'mar_small': -0.501628664495114, 'mar_medium': -0.209437317490966, 'mar_large': 0.17808515318830162, 'map_per_class': -0.501628664495114, 'mar_100_per_class': -0.501628664495114}\n"
     ]
    },
    {
     "name": "stderr",
     "output_type": "stream",
     "text": [
      "Training epoch 29/50: 100%|██████████| 725/725 [01:28<00:00,  8.21it/s]\n",
      "Validating epoch 29/50: 100%|██████████| 154/154 [00:41<00:00,  3.69it/s]\n",
      "C:\\Users\\bruno\\AppData\\Local\\Temp\\ipykernel_11200\\2608262362.py:131: FutureWarning: The frame.append method is deprecated and will be removed from pandas in a future version. Use pandas.concat instead.\n",
      "  history = history.append({\n"
     ]
    },
    {
     "name": "stdout",
     "output_type": "stream",
     "text": [
      "Epoch: 29, Train Loss: 0.6335387560930206, Val mAP: {'map': 0.1621472858839004, 'map_50': 0.31807323542790616, 'map_75': 0.1490404706824486, 'map_small': -0.501628664495114, 'map_medium': -0.23188809074874034, 'map_large': 0.14324090069202336, 'mar_1': 0.10077580877546378, 'mar_10': 0.1929157269505802, 'mar_100': 0.20193920073369426, 'mar_small': -0.501628664495114, 'mar_medium': -0.2117987517813518, 'mar_large': 0.17857975913181368, 'map_per_class': -0.501628664495114, 'mar_100_per_class': -0.501628664495114}\n"
     ]
    },
    {
     "name": "stderr",
     "output_type": "stream",
     "text": [
      "Training epoch 30/50: 100%|██████████| 725/725 [01:28<00:00,  8.17it/s]\n",
      "Validating epoch 30/50: 100%|██████████| 154/154 [00:42<00:00,  3.62it/s]\n",
      "C:\\Users\\bruno\\AppData\\Local\\Temp\\ipykernel_11200\\2608262362.py:131: FutureWarning: The frame.append method is deprecated and will be removed from pandas in a future version. Use pandas.concat instead.\n",
      "  history = history.append({\n"
     ]
    },
    {
     "name": "stdout",
     "output_type": "stream",
     "text": [
      "Epoch: 30, Train Loss: 0.6256962642477718, Val mAP: {'map': 0.1662255576068493, 'map_50': 0.3156644094262139, 'map_75': 0.15129578928994045, 'map_small': -0.501628664495114, 'map_medium': -0.22846219438683327, 'map_large': 0.14430497756610086, 'mar_1': 0.10363831659869961, 'mar_10': 0.2005901398798542, 'mar_100': 0.20953170329041124, 'mar_small': -0.501628664495114, 'mar_medium': -0.2062581835818213, 'mar_large': 0.1807711846665373, 'map_per_class': -0.501628664495114, 'mar_100_per_class': -0.501628664495114}\n"
     ]
    },
    {
     "name": "stderr",
     "output_type": "stream",
     "text": [
      "Training epoch 31/50: 100%|██████████| 725/725 [01:29<00:00,  8.09it/s]\n",
      "Validating epoch 31/50: 100%|██████████| 154/154 [00:39<00:00,  3.91it/s]\n",
      "C:\\Users\\bruno\\AppData\\Local\\Temp\\ipykernel_11200\\2608262362.py:131: FutureWarning: The frame.append method is deprecated and will be removed from pandas in a future version. Use pandas.concat instead.\n",
      "  history = history.append({\n"
     ]
    },
    {
     "name": "stdout",
     "output_type": "stream",
     "text": [
      "Epoch: 31, Train Loss: 0.6162750838191656, Val mAP: {'map': 0.16807019361067285, 'map_50': 0.32274689814166835, 'map_75': 0.15584516991233205, 'map_small': -0.501628664495114, 'map_medium': -0.2323473455074944, 'map_large': 0.14798340191670273, 'mar_1': 0.10453150249071153, 'mar_10': 0.1990889633129008, 'mar_100': 0.20716567148214832, 'mar_small': -0.501628664495114, 'mar_medium': -0.20865665895542804, 'mar_large': 0.1809874171154507, 'map_per_class': -0.501628664495114, 'mar_100_per_class': -0.501628664495114}\n"
     ]
    },
    {
     "name": "stderr",
     "output_type": "stream",
     "text": [
      "Training epoch 32/50: 100%|██████████| 725/725 [01:28<00:00,  8.17it/s]\n",
      "Validating epoch 32/50: 100%|██████████| 154/154 [00:44<00:00,  3.47it/s]\n",
      "C:\\Users\\bruno\\AppData\\Local\\Temp\\ipykernel_11200\\2608262362.py:131: FutureWarning: The frame.append method is deprecated and will be removed from pandas in a future version. Use pandas.concat instead.\n",
      "  history = history.append({\n"
     ]
    },
    {
     "name": "stdout",
     "output_type": "stream",
     "text": [
      "Epoch: 32, Train Loss: 0.614573360547762, Val mAP: {'map': 0.16635699691523947, 'map_50': 0.32155775635560874, 'map_75': 0.14592571444930783, 'map_small': -0.501628664495114, 'map_medium': -0.22766495993548963, 'map_large': 0.14526825696715315, 'mar_1': 0.10580794741354081, 'mar_10': 0.19969661849329448, 'mar_100': 0.20978334905270257, 'mar_small': -0.501628664495114, 'mar_medium': -0.20355940331076955, 'mar_large': 0.18120008338157828, 'map_per_class': -0.501628664495114, 'mar_100_per_class': -0.501628664495114}\n"
     ]
    },
    {
     "name": "stderr",
     "output_type": "stream",
     "text": [
      "Training epoch 33/50: 100%|██████████| 725/725 [01:28<00:00,  8.18it/s]\n",
      "Validating epoch 33/50: 100%|██████████| 154/154 [00:44<00:00,  3.44it/s]\n",
      "C:\\Users\\bruno\\AppData\\Local\\Temp\\ipykernel_11200\\2608262362.py:131: FutureWarning: The frame.append method is deprecated and will be removed from pandas in a future version. Use pandas.concat instead.\n",
      "  history = history.append({\n"
     ]
    },
    {
     "name": "stdout",
     "output_type": "stream",
     "text": [
      "Epoch: 33, Train Loss: 0.6024171918298351, Val mAP: {'map': 0.1707039376423491, 'map_50': 0.31926491206166024, 'map_75': 0.16265886536638588, 'map_small': -0.501628664495114, 'map_medium': -0.22734139408273107, 'map_large': 0.14913531623368154, 'mar_1': 0.10608055537220709, 'mar_10': 0.20327089042539317, 'mar_100': 0.21361598906377238, 'mar_small': -0.501628664495114, 'mar_medium': -0.20080797524716257, 'mar_large': 0.1846498122821025, 'map_per_class': -0.501628664495114, 'mar_100_per_class': -0.501628664495114}\n"
     ]
    },
    {
     "name": "stderr",
     "output_type": "stream",
     "text": [
      "Training epoch 34/50: 100%|██████████| 725/725 [01:27<00:00,  8.25it/s]\n",
      "Validating epoch 34/50: 100%|██████████| 154/154 [00:40<00:00,  3.82it/s]\n",
      "C:\\Users\\bruno\\AppData\\Local\\Temp\\ipykernel_11200\\2608262362.py:131: FutureWarning: The frame.append method is deprecated and will be removed from pandas in a future version. Use pandas.concat instead.\n",
      "  history = history.append({\n"
     ]
    },
    {
     "name": "stdout",
     "output_type": "stream",
     "text": [
      "Epoch: 34, Train Loss: 0.5953241141250655, Val mAP: {'map': 0.17373187534195592, 'map_50': 0.32029761398265727, 'map_75': 0.1647729034920857, 'map_small': -0.501628664495114, 'map_medium': -0.22748533366945745, 'map_large': 0.1519361116987098, 'mar_1': 0.1088923351772445, 'mar_10': 0.20258024383445516, 'mar_100': 0.20989088126813163, 'mar_small': -0.501628664495114, 'mar_medium': -0.20908276188257074, 'mar_large': 0.18419344029131463, 'map_per_class': -0.501628664495114, 'mar_100_per_class': -0.501628664495114}\n"
     ]
    },
    {
     "name": "stderr",
     "output_type": "stream",
     "text": [
      "Training epoch 35/50: 100%|██████████| 725/725 [01:27<00:00,  8.29it/s]\n",
      "Validating epoch 35/50: 100%|██████████| 154/154 [00:39<00:00,  3.94it/s]\n",
      "C:\\Users\\bruno\\AppData\\Local\\Temp\\ipykernel_11200\\2608262362.py:131: FutureWarning: The frame.append method is deprecated and will be removed from pandas in a future version. Use pandas.concat instead.\n",
      "  history = history.append({\n"
     ]
    },
    {
     "name": "stdout",
     "output_type": "stream",
     "text": [
      "Epoch: 35, Train Loss: 0.583700028240274, Val mAP: {'map': 0.1751793976327107, 'map_50': 0.326627998476308, 'map_75': 0.16047496982040158, 'map_small': -0.501628664495114, 'map_medium': -0.22480483163839832, 'map_large': 0.15146265433743256, 'mar_1': 0.10812713424235292, 'mar_10': 0.20347427467569854, 'mar_100': 0.21195785075134874, 'mar_small': -0.501628664495114, 'mar_medium': -0.20293020192497327, 'mar_large': 0.18324363037507, 'map_per_class': -0.501628664495114, 'mar_100_per_class': -0.501628664495114}\n"
     ]
    },
    {
     "name": "stderr",
     "output_type": "stream",
     "text": [
      "Training epoch 36/50: 100%|██████████| 725/725 [01:28<00:00,  8.22it/s]\n",
      "Validating epoch 36/50: 100%|██████████| 154/154 [00:40<00:00,  3.82it/s]\n",
      "C:\\Users\\bruno\\AppData\\Local\\Temp\\ipykernel_11200\\2608262362.py:131: FutureWarning: The frame.append method is deprecated and will be removed from pandas in a future version. Use pandas.concat instead.\n",
      "  history = history.append({\n"
     ]
    },
    {
     "name": "stdout",
     "output_type": "stream",
     "text": [
      "Epoch: 36, Train Loss: 0.5761930120733025, Val mAP: {'map': 0.17527278937423657, 'map_50': 0.3269495265103318, 'map_75': 0.16876038044982314, 'map_small': -0.501628664495114, 'map_medium': -0.22349990695617875, 'map_large': 0.1518138798517979, 'mar_1': 0.10514507231572552, 'mar_10': 0.2033628904858319, 'mar_100': 0.21239180673605457, 'mar_small': -0.501628664495114, 'mar_medium': -0.19851724332629275, 'mar_large': 0.18206483921709588, 'map_per_class': -0.501628664495114, 'mar_100_per_class': -0.501628664495114}\n"
     ]
    },
    {
     "name": "stderr",
     "output_type": "stream",
     "text": [
      "Training epoch 37/50: 100%|██████████| 725/725 [01:27<00:00,  8.25it/s]\n",
      "Validating epoch 37/50: 100%|██████████| 154/154 [00:38<00:00,  3.96it/s]\n",
      "C:\\Users\\bruno\\AppData\\Local\\Temp\\ipykernel_11200\\2608262362.py:131: FutureWarning: The frame.append method is deprecated and will be removed from pandas in a future version. Use pandas.concat instead.\n",
      "  history = history.append({\n"
     ]
    },
    {
     "name": "stdout",
     "output_type": "stream",
     "text": [
      "Epoch: 37, Train Loss: 0.5683794268897604, Val mAP: {'map': 0.17408597119856348, 'map_50': 0.3234604826190961, 'map_75': 0.15988571713724042, 'map_small': -0.501628664495114, 'map_medium': -0.22388202282038885, 'map_large': 0.14944618299652, 'mar_1': 0.1051059188594259, 'mar_10': 0.20183553291842682, 'mar_100': 0.21066838366977556, 'mar_small': -0.501628664495114, 'mar_medium': -0.19876495013407852, 'mar_large': 0.17885539896713407, 'map_per_class': -0.501628664495114, 'mar_100_per_class': -0.501628664495114}\n"
     ]
    },
    {
     "name": "stderr",
     "output_type": "stream",
     "text": [
      "Training epoch 38/50: 100%|██████████| 725/725 [01:27<00:00,  8.27it/s]\n",
      "Validating epoch 38/50: 100%|██████████| 154/154 [00:35<00:00,  4.30it/s]\n",
      "C:\\Users\\bruno\\AppData\\Local\\Temp\\ipykernel_11200\\2608262362.py:131: FutureWarning: The frame.append method is deprecated and will be removed from pandas in a future version. Use pandas.concat instead.\n",
      "  history = history.append({\n"
     ]
    },
    {
     "name": "stdout",
     "output_type": "stream",
     "text": [
      "Epoch: 38, Train Loss: 0.5615848905229543, Val mAP: {'map': 0.17960023414040233, 'map_50': 0.32509789482390067, 'map_75': 0.17789925193165335, 'map_small': -0.501628664495114, 'map_medium': -0.22264218408044076, 'map_large': 0.15657432382192207, 'mar_1': 0.10949695848098406, 'mar_10': 0.2072964149499949, 'mar_100': 0.21440119541429153, 'mar_small': -0.501628664495114, 'mar_medium': -0.20368220674098508, 'mar_large': 0.18698086567732722, 'map_per_class': -0.501628664495114, 'mar_100_per_class': -0.501628664495114}\n"
     ]
    },
    {
     "name": "stderr",
     "output_type": "stream",
     "text": [
      "Training epoch 39/50: 100%|██████████| 725/725 [01:27<00:00,  8.27it/s]\n",
      "Validating epoch 39/50: 100%|██████████| 154/154 [00:40<00:00,  3.79it/s]\n",
      "C:\\Users\\bruno\\AppData\\Local\\Temp\\ipykernel_11200\\2608262362.py:131: FutureWarning: The frame.append method is deprecated and will be removed from pandas in a future version. Use pandas.concat instead.\n",
      "  history = history.append({\n"
     ]
    },
    {
     "name": "stdout",
     "output_type": "stream",
     "text": [
      "Epoch: 39, Train Loss: 0.5581122476520329, Val mAP: {'map': 0.17739248120435286, 'map_50': 0.3312614018443353, 'map_75': 0.1735401091435833, 'map_small': -0.501628664495114, 'map_medium': -0.22022982917313466, 'map_large': 0.15223527342954754, 'mar_1': 0.10833634615721066, 'mar_10': 0.207166180936832, 'mar_100': 0.21539751481543923, 'mar_small': -0.501628664495114, 'mar_medium': -0.19801862387393118, 'mar_large': 0.18418490381893196, 'map_per_class': -0.501628664495114, 'mar_100_per_class': -0.501628664495114}\n"
     ]
    },
    {
     "name": "stderr",
     "output_type": "stream",
     "text": [
      "Training epoch 40/50: 100%|██████████| 725/725 [01:27<00:00,  8.29it/s]\n",
      "Validating epoch 40/50: 100%|██████████| 154/154 [00:35<00:00,  4.29it/s]\n",
      "C:\\Users\\bruno\\AppData\\Local\\Temp\\ipykernel_11200\\2608262362.py:131: FutureWarning: The frame.append method is deprecated and will be removed from pandas in a future version. Use pandas.concat instead.\n",
      "  history = history.append({\n"
     ]
    },
    {
     "name": "stdout",
     "output_type": "stream",
     "text": [
      "Epoch: 40, Train Loss: 0.546689682948652, Val mAP: {'map': 0.18193579807343624, 'map_50': 0.3316690401456255, 'map_75': 0.1780515913077985, 'map_small': -0.501628664495114, 'map_medium': -0.22087554434611664, 'map_large': 0.15810763331111946, 'mar_1': 0.1101228421984744, 'mar_10': 0.20861426238516642, 'mar_100': 0.2148681789733688, 'mar_small': -0.501628664495114, 'mar_medium': -0.2021415536489083, 'mar_large': 0.18600446471173912, 'map_per_class': -0.501628664495114, 'mar_100_per_class': -0.501628664495114}\n"
     ]
    },
    {
     "name": "stderr",
     "output_type": "stream",
     "text": [
      "Training epoch 41/50: 100%|██████████| 725/725 [01:27<00:00,  8.27it/s]\n",
      "Validating epoch 41/50: 100%|██████████| 154/154 [00:35<00:00,  4.35it/s]\n",
      "C:\\Users\\bruno\\AppData\\Local\\Temp\\ipykernel_11200\\2608262362.py:131: FutureWarning: The frame.append method is deprecated and will be removed from pandas in a future version. Use pandas.concat instead.\n",
      "  history = history.append({\n"
     ]
    },
    {
     "name": "stdout",
     "output_type": "stream",
     "text": [
      "Epoch: 41, Train Loss: 0.5459196359559267, Val mAP: {'map': 0.18236544233191673, 'map_50': 0.33208791130140475, 'map_75': 0.17856148089182106, 'map_small': -0.501628664495114, 'map_medium': -0.22034419553675946, 'map_large': 0.15816753772648615, 'mar_1': 0.11182840949937653, 'mar_10': 0.20963128304248524, 'mar_100': 0.21565229186017662, 'mar_small': -0.501628664495114, 'mar_medium': -0.2008686252059688, 'mar_large': 0.18529653393872786, 'map_per_class': -0.501628664495114, 'mar_100_per_class': -0.501628664495114}\n"
     ]
    },
    {
     "name": "stderr",
     "output_type": "stream",
     "text": [
      "Training epoch 42/50: 100%|██████████| 725/725 [01:27<00:00,  8.30it/s]\n",
      "Validating epoch 42/50: 100%|██████████| 154/154 [00:39<00:00,  3.88it/s]\n",
      "C:\\Users\\bruno\\AppData\\Local\\Temp\\ipykernel_11200\\2608262362.py:131: FutureWarning: The frame.append method is deprecated and will be removed from pandas in a future version. Use pandas.concat instead.\n",
      "  history = history.append({\n"
     ]
    },
    {
     "name": "stdout",
     "output_type": "stream",
     "text": [
      "Epoch: 42, Train Loss: 0.533536922174747, Val mAP: {'map': 0.18034149070516084, 'map_50': 0.33348697326858967, 'map_75': 0.1718181150355634, 'map_small': -0.501628664495114, 'map_medium': -0.2228482025842325, 'map_large': 0.15614424466310184, 'mar_1': 0.11071362324568658, 'mar_10': 0.20415719246631336, 'mar_100': 0.21098618398660168, 'mar_small': -0.501628664495114, 'mar_medium': -0.20297049854788018, 'mar_large': 0.1813291618024099, 'map_per_class': -0.501628664495114, 'mar_100_per_class': -0.501628664495114}\n"
     ]
    },
    {
     "name": "stderr",
     "output_type": "stream",
     "text": [
      "Training epoch 43/50: 100%|██████████| 725/725 [01:27<00:00,  8.30it/s]\n",
      "Validating epoch 43/50: 100%|██████████| 154/154 [00:33<00:00,  4.58it/s]\n",
      "C:\\Users\\bruno\\AppData\\Local\\Temp\\ipykernel_11200\\2608262362.py:131: FutureWarning: The frame.append method is deprecated and will be removed from pandas in a future version. Use pandas.concat instead.\n",
      "  history = history.append({\n"
     ]
    },
    {
     "name": "stdout",
     "output_type": "stream",
     "text": [
      "Epoch: 43, Train Loss: 0.532922428501539, Val mAP: {'map': 0.18777925572100213, 'map_50': 0.33596908619038834, 'map_75': 0.17928877094281226, 'map_small': -0.501628664495114, 'map_medium': -0.21802147980233358, 'map_large': 0.16327294464608358, 'mar_1': 0.11337512634476156, 'mar_10': 0.21267128612008857, 'mar_100': 0.21911486895930884, 'mar_small': -0.501628664495114, 'mar_medium': -0.2029698399845086, 'mar_large': 0.19034627361483994, 'map_per_class': -0.501628664495114, 'mar_100_per_class': -0.501628664495114}\n"
     ]
    },
    {
     "name": "stderr",
     "output_type": "stream",
     "text": [
      "Training epoch 44/50: 100%|██████████| 725/725 [01:27<00:00,  8.28it/s]\n",
      "Validating epoch 44/50: 100%|██████████| 154/154 [00:36<00:00,  4.18it/s]\n",
      "C:\\Users\\bruno\\AppData\\Local\\Temp\\ipykernel_11200\\2608262362.py:131: FutureWarning: The frame.append method is deprecated and will be removed from pandas in a future version. Use pandas.concat instead.\n",
      "  history = history.append({\n"
     ]
    },
    {
     "name": "stdout",
     "output_type": "stream",
     "text": [
      "Epoch: 44, Train Loss: 0.520148495568659, Val mAP: {'map': 0.18738798209820975, 'map_50': 0.3348301691807054, 'map_75': 0.1845209948014747, 'map_small': -0.501628664495114, 'map_medium': -0.21722576128931698, 'map_large': 0.16199746892972566, 'mar_1': 0.11310910401981118, 'mar_10': 0.21454928519283134, 'mar_100': 0.22027816523946459, 'mar_small': -0.501628664495114, 'mar_medium': -0.19931831732635, 'mar_large': 0.1892563636605825, 'map_per_class': -0.501628664495114, 'mar_100_per_class': -0.501628664495114}\n"
     ]
    },
    {
     "name": "stderr",
     "output_type": "stream",
     "text": [
      "Training epoch 45/50: 100%|██████████| 725/725 [01:27<00:00,  8.29it/s]\n",
      "Validating epoch 45/50: 100%|██████████| 154/154 [00:32<00:00,  4.78it/s]\n",
      "C:\\Users\\bruno\\AppData\\Local\\Temp\\ipykernel_11200\\2608262362.py:131: FutureWarning: The frame.append method is deprecated and will be removed from pandas in a future version. Use pandas.concat instead.\n",
      "  history = history.append({\n"
     ]
    },
    {
     "name": "stdout",
     "output_type": "stream",
     "text": [
      "Epoch: 45, Train Loss: 0.5164074421611412, Val mAP: {'map': 0.18886838285464805, 'map_50': 0.3365431794902789, 'map_75': 0.17832186323035423, 'map_small': -0.501628664495114, 'map_medium': -0.21598279126692285, 'map_large': 0.16171081990294814, 'mar_1': 0.11446077427568964, 'mar_10': 0.21514179341567843, 'mar_100': 0.22068595264944268, 'mar_small': -0.501628664495114, 'mar_medium': -0.2001305620522763, 'mar_large': 0.18997010967242212, 'map_per_class': -0.501628664495114, 'mar_100_per_class': -0.501628664495114}\n"
     ]
    },
    {
     "name": "stderr",
     "output_type": "stream",
     "text": [
      "Training epoch 46/50: 100%|██████████| 725/725 [01:27<00:00,  8.27it/s]\n",
      "Validating epoch 46/50: 100%|██████████| 154/154 [00:32<00:00,  4.71it/s]\n",
      "C:\\Users\\bruno\\AppData\\Local\\Temp\\ipykernel_11200\\2608262362.py:131: FutureWarning: The frame.append method is deprecated and will be removed from pandas in a future version. Use pandas.concat instead.\n",
      "  history = history.append({\n"
     ]
    },
    {
     "name": "stdout",
     "output_type": "stream",
     "text": [
      "Epoch: 46, Train Loss: 0.5102567943338993, Val mAP: {'map': 0.19022308498718063, 'map_50': 0.3379974613748855, 'map_75': 0.1767404661893068, 'map_small': -0.501628664495114, 'map_medium': -0.21443434724590288, 'map_large': 0.1632767469176252, 'mar_1': 0.11556821692650016, 'mar_10': 0.2140180109378181, 'mar_100': 0.21981048583984375, 'mar_small': -0.501628664495114, 'mar_medium': -0.20228518259253486, 'mar_large': 0.19033528927483076, 'map_per_class': -0.501628664495114, 'mar_100_per_class': -0.501628664495114}\n"
     ]
    },
    {
     "name": "stderr",
     "output_type": "stream",
     "text": [
      "Training epoch 47/50: 100%|██████████| 725/725 [01:27<00:00,  8.28it/s]\n",
      "Validating epoch 47/50: 100%|██████████| 154/154 [00:31<00:00,  4.87it/s]\n",
      "C:\\Users\\bruno\\AppData\\Local\\Temp\\ipykernel_11200\\2608262362.py:131: FutureWarning: The frame.append method is deprecated and will be removed from pandas in a future version. Use pandas.concat instead.\n",
      "  history = history.append({\n"
     ]
    },
    {
     "name": "stdout",
     "output_type": "stream",
     "text": [
      "Epoch: 47, Train Loss: 0.504794626993181, Val mAP: {'map': 0.18755345546461472, 'map_50': 0.3385442180819931, 'map_75': 0.173108514046436, 'map_small': -0.501628664495114, 'map_medium': -0.2162984792106703, 'map_large': 0.1629341324299865, 'mar_1': 0.11363031343839068, 'mar_10': 0.21335485004835097, 'mar_100': 0.2174308602895333, 'mar_small': -0.501628664495114, 'mar_medium': -0.2031421599248333, 'mar_large': 0.1883024532554204, 'map_per_class': -0.501628664495114, 'mar_100_per_class': -0.501628664495114}\n"
     ]
    },
    {
     "name": "stderr",
     "output_type": "stream",
     "text": [
      "Training epoch 48/50: 100%|██████████| 725/725 [01:27<00:00,  8.29it/s]\n",
      "Validating epoch 48/50: 100%|██████████| 154/154 [00:32<00:00,  4.67it/s]\n",
      "C:\\Users\\bruno\\AppData\\Local\\Temp\\ipykernel_11200\\2608262362.py:131: FutureWarning: The frame.append method is deprecated and will be removed from pandas in a future version. Use pandas.concat instead.\n",
      "  history = history.append({\n"
     ]
    },
    {
     "name": "stdout",
     "output_type": "stream",
     "text": [
      "Epoch: 48, Train Loss: 0.499014983425743, Val mAP: {'map': 0.1880403326078036, 'map_50': 0.3344355033352631, 'map_75': 0.1862844286990088, 'map_small': -0.501628664495114, 'map_medium': -0.21554160351085352, 'map_large': 0.16158186573935643, 'mar_1': 0.11281276292831968, 'mar_10': 0.21200792641903757, 'mar_100': 0.21834606456445949, 'mar_small': -0.501628664495114, 'mar_medium': -0.20075230800367722, 'mar_large': 0.18811257576709461, 'map_per_class': -0.501628664495114, 'mar_100_per_class': -0.501628664495114}\n"
     ]
    },
    {
     "name": "stderr",
     "output_type": "stream",
     "text": [
      "Training epoch 49/50: 100%|██████████| 725/725 [01:33<00:00,  7.76it/s]\n",
      "Validating epoch 49/50: 100%|██████████| 154/154 [00:32<00:00,  4.76it/s]\n",
      "C:\\Users\\bruno\\AppData\\Local\\Temp\\ipykernel_11200\\2608262362.py:131: FutureWarning: The frame.append method is deprecated and will be removed from pandas in a future version. Use pandas.concat instead.\n",
      "  history = history.append({\n"
     ]
    },
    {
     "name": "stdout",
     "output_type": "stream",
     "text": [
      "Epoch: 49, Train Loss: 0.48732685250391766, Val mAP: {'map': 0.18353276454664597, 'map_50': 0.3292213961821814, 'map_75': 0.17082266543509517, 'map_small': -0.501628664495114, 'map_medium': -0.21988618335040463, 'map_large': 0.15976329890446864, 'mar_1': 0.10999381348053873, 'mar_10': 0.20816026370766108, 'mar_100': 0.21126601129090747, 'mar_small': -0.501628664495114, 'mar_medium': -0.20504899910296212, 'mar_large': 0.1827015084630115, 'map_per_class': -0.501628664495114, 'mar_100_per_class': -0.501628664495114}\n"
     ]
    },
    {
     "name": "stderr",
     "output_type": "stream",
     "text": [
      "Training epoch 50/50: 100%|██████████| 725/725 [01:40<00:00,  7.22it/s]\n",
      "Validating epoch 50/50: 100%|██████████| 154/154 [00:32<00:00,  4.81it/s]\n",
      "C:\\Users\\bruno\\AppData\\Local\\Temp\\ipykernel_11200\\2608262362.py:131: FutureWarning: The frame.append method is deprecated and will be removed from pandas in a future version. Use pandas.concat instead.\n",
      "  history = history.append({\n"
     ]
    },
    {
     "name": "stdout",
     "output_type": "stream",
     "text": [
      "Epoch: 50, Train Loss: 0.4824119851088726, Val mAP: {'map': 0.1930286519302219, 'map_50': 0.33315821346320235, 'map_75': 0.18159366818903325, 'map_small': -0.501628664495114, 'map_medium': -0.21550087198760687, 'map_large': 0.16859055808002088, 'mar_1': 0.11839361532503308, 'mar_10': 0.2173691541441877, 'mar_100': 0.22145140209881412, 'mar_small': -0.501628664495114, 'mar_medium': -0.20419020761496082, 'mar_large': 0.19376372048443224, 'map_per_class': -0.501628664495114, 'mar_100_per_class': -0.501628664495114}\n",
      "Test mAP: {'map': 0.023405547250753892, 'map_50': 0.04734071613523005, 'map_75': 0.02517173344615228, 'map_small': -1.208469055374593, 'map_medium': -0.7877252932868485, 'map_large': -0.1289442851411403, 'mar_1': 0.022401115405054746, 'mar_10': 0.024650483643969805, 'mar_100': 0.02770818095253811, 'mar_small': -1.208469055374593, 'mar_medium': -0.7867535022648615, 'mar_large': -0.12511296225681368, 'map_per_class': -1.211726384364821, 'mar_100_per_class': -1.211726384364821}\n",
      "Finished evaluating the model on the test set.\n"
     ]
    }
   ],
   "source": [
    "batch_size = 2\n",
    "\n",
    "gc.collect()\n",
    "torch.cuda.empty_cache()\n",
    "\n",
    "train_data = StrawberryDataset(train_images, df_train_labels, transforms=get_transform)\n",
    "val_data = StrawberryDataset(test_images, df_test_labels, transforms=get_transform)\n",
    "test_data = StrawberryDataset(val_images, df_val_labels, transforms=get_transform)\n",
    "\n",
    "train_loader = DataLoader(train_data, batch_size=batch_size, shuffle=True, num_workers=0, collate_fn=collate_fn)\n",
    "val_loader = DataLoader(val_data, batch_size=batch_size, shuffle=False, num_workers=0, collate_fn=collate_fn)\n",
    "test_loader = DataLoader(test_data, batch_size=batch_size, shuffle=False, num_workers=0, collate_fn=collate_fn)\n",
    "\n",
    "device = torch.device(\"cuda\") if torch.cuda.is_available() else torch.device(\"cpu\")\n",
    "print(device)\n",
    "\n",
    "num_classes = 7\n",
    "model = get_model(\"baseline\", num_classes)\n",
    "model.to(device)\n",
    "\n",
    "gradient_accumulation_steps = 4\n",
    "params = [p for p in model.parameters() if p.requires_grad] \n",
    "model, optimizer = get_optimizer(\"SGD\", model, lr=0.0001)\n",
    "scaler = GradScaler()\n",
    "num_epochs = 50\n",
    "history = pd.DataFrame(columns=[\"Epoch\", \"Train Loss\", \"Val Loss\", \"Train mAP\", \"Val mAP\"])\n",
    "for epoch in range(num_epochs):\n",
    "    model.train()\n",
    "    running_loss = 0\n",
    "    train_mAP = 0\n",
    "    total_train_samples = 0\n",
    "    step = 0\n",
    "    \n",
    "    torch.cuda.synchronize()\n",
    "    gc.collect()\n",
    "    torch.cuda.empty_cache()\n",
    "    \n",
    "    for images, targets in tqdm(train_loader, desc=f\"Training epoch {epoch + 1}/{num_epochs}\"):\n",
    "        images = list(image.to(device) for image in images)\n",
    "        targets = [{k: v.to(device) for k, v in t.items()} for t in targets]\n",
    "        with autocast():\n",
    "            loss_dict = model(images, targets)\n",
    "            losses = sum(loss for loss in loss_dict.values())\n",
    "\n",
    "        scaler.scale(losses / gradient_accumulation_steps).backward()\n",
    "        running_loss += losses.cpu().detach().item()\n",
    "        total_train_samples += len(targets)\n",
    "        if (step + 1) % gradient_accumulation_steps == 0:\n",
    "            scaler.step(optimizer)\n",
    "            scaler.update()\n",
    "            optimizer.zero_grad()\n",
    "        step += 1\n",
    "\n",
    "    model.eval()\n",
    "    val_loss = 0\n",
    "    val_mAP = []\n",
    "    total_val_samples = 0\n",
    "    predictions = []\n",
    "\n",
    "    mAP_sums = {}\n",
    "    with torch.no_grad():\n",
    "        for images, targets in tqdm(val_loader, desc=f\"Validating epoch {epoch + 1}/{num_epochs}\"):\n",
    "            images = list(image.to(device) for image in images)\n",
    "            targets = [{k: v.to(device) for k, v in t.items()} for t in targets]\n",
    "            with autocast():\n",
    "                predictions = model(images)\n",
    "            mAP_dict = simple_mean_average_precision(targets, predictions)\n",
    "            for key, value in mAP_dict.items():\n",
    "                if key in mAP_sums:\n",
    "                    mAP_sums[key] += value.cpu().detach().numpy()\n",
    "                else:\n",
    "                    mAP_sums[key] = value.numpy()\n",
    "            total_val_samples += len(targets)\n",
    "\n",
    "    # Calculate the average of each mAP metric\n",
    "    mAP_averages = {key: value / total_val_samples for key, value in mAP_sums.items()}\n",
    "    val_mAP.append(mAP_averages)\n",
    "\n",
    "    train_loss = running_loss / (step + 1)\n",
    "    print(f\"Epoch: {epoch + 1}, Train Loss: {train_loss}, Val mAP: {mAP_averages}\")\n",
    "    history = history.append({\n",
    "        \"Epoch\": epoch + 1,\n",
    "        \"Train Loss\": train_loss,\n",
    "        \"Val mAP\": val_mAP},\n",
    "        ignore_index=True)\n",
    "\n",
    "history.to_csv(\"../models/training_history_base.csv\", index=False)\n",
    "torch.save(model.state_dict(), \"../models/mask_rcnn_strawberry_base.pth\")\n",
    "\n",
    "# Evaluate the model on the test set\n",
    "model.eval()\n",
    "test_mAP = []\n",
    "total_test_samples = 0\n",
    "predictions_test = []\n",
    "mAP_test_sums = {}\n",
    "with torch.no_grad():\n",
    "    for images, targets in test_loader:\n",
    "        images = list(image.to(device) for image in images)\n",
    "        targets = [{k: v.to(device) for k, v in t.items()} for t in targets]\n",
    "\n",
    "        with autocast():\n",
    "            predictions += model(images)  # Get predictions\n",
    "            mAP_dict = simple_mean_average_precision(targets, predictions)\n",
    "\n",
    "            # Update the running sum of each mAP metric\n",
    "            for key, value in mAP_dict.items():\n",
    "                if key in mAP_test_sums:\n",
    "                    mAP_test_sums[key] += value.cpu().detach().numpy()\n",
    "                else:\n",
    "                    mAP_test_sums[key] = value.cpu().detach().numpy()\n",
    "            total_test_samples += len(targets)\n",
    "\n",
    "    # Calculate the average of each mAP metric\n",
    "    mAP_test_averages = {key: value / total_val_samples for key, value in mAP_test_sums.items()}\n",
    "    print(f\"Test mAP: {mAP_test_averages}\")\n",
    "\n",
    "print(\"Finished evaluating the model on the test set.\")"
   ]
  }
 ],
 "metadata": {
  "kernelspec": {
   "display_name": "my_env",
   "language": "python",
   "name": "python3"
  },
  "language_info": {
   "codemirror_mode": {
    "name": "ipython",
    "version": 3
   },
   "file_extension": ".py",
   "mimetype": "text/x-python",
   "name": "python",
   "nbconvert_exporter": "python",
   "pygments_lexer": "ipython3",
   "version": "3.11.3"
  },
  "orig_nbformat": 4
 },
 "nbformat": 4,
 "nbformat_minor": 2
}
