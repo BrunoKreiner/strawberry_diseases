{
 "cells": [
  {
   "cell_type": "code",
   "execution_count": 5,
   "metadata": {},
   "outputs": [
    {
     "name": "stderr",
     "output_type": "stream",
     "text": [
      "/home/bruno/Documents/mc_dlbs_fs23_nzu_bkr/notebooks/../Mask_RCNN/mrcnn/model.py:2359: SyntaxWarning: \"is\" with a literal. Did you mean \"==\"?\n",
      "  if os.name is 'nt':\n",
      "/home/bruno/Documents/mc_dlbs_fs23_nzu_bkr/notebooks/../Mask_RCNN/mrcnn/model.py:2359: SyntaxWarning: \"is\" with a literal. Did you mean \"==\"?\n",
      "  if os.name is 'nt':\n"
     ]
    },
    {
     "ename": "AttributeError",
     "evalue": "module 'keras.engine' has no attribute 'Layer'",
     "output_type": "error",
     "traceback": [
      "\u001b[0;31m---------------------------------------------------------------------------\u001b[0m",
      "\u001b[0;31mAttributeError\u001b[0m                            Traceback (most recent call last)",
      "\u001b[1;32m/home/bruno/Documents/mc_dlbs_fs23_nzu_bkr/notebooks/tf.ipynb Cell 1\u001b[0m in \u001b[0;36m<cell line: 14>\u001b[0;34m()\u001b[0m\n\u001b[1;32m     <a href='vscode-notebook-cell:/home/bruno/Documents/mc_dlbs_fs23_nzu_bkr/notebooks/tf.ipynb#W0sZmlsZQ%3D%3D?line=11'>12</a>\u001b[0m \u001b[39mfrom\u001b[39;00m \u001b[39mmrcnn\u001b[39;00m \u001b[39mimport\u001b[39;00m visualize\n\u001b[1;32m     <a href='vscode-notebook-cell:/home/bruno/Documents/mc_dlbs_fs23_nzu_bkr/notebooks/tf.ipynb#W0sZmlsZQ%3D%3D?line=12'>13</a>\u001b[0m \u001b[39mfrom\u001b[39;00m \u001b[39mmrcnn\u001b[39;00m\u001b[39m.\u001b[39;00m\u001b[39mvisualize\u001b[39;00m \u001b[39mimport\u001b[39;00m display_images\n\u001b[0;32m---> <a href='vscode-notebook-cell:/home/bruno/Documents/mc_dlbs_fs23_nzu_bkr/notebooks/tf.ipynb#W0sZmlsZQ%3D%3D?line=13'>14</a>\u001b[0m \u001b[39mfrom\u001b[39;00m \u001b[39mmrcnn\u001b[39;00m \u001b[39mimport\u001b[39;00m model \u001b[39mas\u001b[39;00m modellib\n\u001b[1;32m     <a href='vscode-notebook-cell:/home/bruno/Documents/mc_dlbs_fs23_nzu_bkr/notebooks/tf.ipynb#W0sZmlsZQ%3D%3D?line=14'>15</a>\u001b[0m \u001b[39mfrom\u001b[39;00m \u001b[39mmrcnn\u001b[39;00m\u001b[39m.\u001b[39;00m\u001b[39mmodel\u001b[39;00m \u001b[39mimport\u001b[39;00m log\n\u001b[1;32m     <a href='vscode-notebook-cell:/home/bruno/Documents/mc_dlbs_fs23_nzu_bkr/notebooks/tf.ipynb#W0sZmlsZQ%3D%3D?line=16'>17</a>\u001b[0m \u001b[39mimport\u001b[39;00m \u001b[39mcustom_dataset\u001b[39;00m \u001b[39m# Replace with the module that contains your dataset class\u001b[39;00m\n",
      "File \u001b[0;32m~/Documents/mc_dlbs_fs23_nzu_bkr/notebooks/../Mask_RCNN/mrcnn/model.py:255\u001b[0m, in \u001b[0;36m<module>\u001b[0;34m\u001b[0m\n\u001b[1;32m    251\u001b[0m     clipped\u001b[39m.\u001b[39mset_shape((clipped\u001b[39m.\u001b[39mshape[\u001b[39m0\u001b[39m], \u001b[39m4\u001b[39m))\n\u001b[1;32m    252\u001b[0m     \u001b[39mreturn\u001b[39;00m clipped\n\u001b[0;32m--> 255\u001b[0m \u001b[39mclass\u001b[39;00m \u001b[39mProposalLayer\u001b[39;00m(KE\u001b[39m.\u001b[39;49mLayer):\n\u001b[1;32m    256\u001b[0m \u001b[39m    \u001b[39m\u001b[39m\"\"\"Receives anchor scores and selects a subset to pass as proposals\u001b[39;00m\n\u001b[1;32m    257\u001b[0m \u001b[39m    to the second stage. Filtering is done based on anchor scores and\u001b[39;00m\n\u001b[1;32m    258\u001b[0m \u001b[39m    non-max suppression to remove overlaps. It also applies bounding\u001b[39;00m\n\u001b[0;32m   (...)\u001b[0m\n\u001b[1;32m    267\u001b[0m \u001b[39m        Proposals in normalized coordinates [batch, rois, (y1, x1, y2, x2)]\u001b[39;00m\n\u001b[1;32m    268\u001b[0m \u001b[39m    \"\"\"\u001b[39;00m\n\u001b[1;32m    270\u001b[0m     \u001b[39mdef\u001b[39;00m \u001b[39m__init__\u001b[39m(\u001b[39mself\u001b[39m, proposal_count, nms_threshold, config\u001b[39m=\u001b[39m\u001b[39mNone\u001b[39;00m, \u001b[39m*\u001b[39m\u001b[39m*\u001b[39mkwargs):\n",
      "\u001b[0;31mAttributeError\u001b[0m: module 'keras.engine' has no attribute 'Layer'"
     ]
    }
   ],
   "source": [
    "import os\n",
    "import sys\n",
    "import numpy as np\n",
    "import matplotlib.pyplot as plt\n",
    "import sys\n",
    "sys.path.append('../Mask_RCNN')\n",
    "from mrcnn import utils\n",
    "from mrcnn import visualize\n",
    "from mrcnn.visualize import display_images\n",
    "from mrcnn import model as modellib\n",
    "from mrcnn.model import log"
   ]
  }
 ],
 "metadata": {
  "kernelspec": {
   "display_name": "pytorch_env",
   "language": "python",
   "name": "python3"
  },
  "language_info": {
   "codemirror_mode": {
    "name": "ipython",
    "version": 3
   },
   "file_extension": ".py",
   "mimetype": "text/x-python",
   "name": "python",
   "nbconvert_exporter": "python",
   "pygments_lexer": "ipython3",
   "version": "3.8.16"
  },
  "orig_nbformat": 4
 },
 "nbformat": 4,
 "nbformat_minor": 2
}
