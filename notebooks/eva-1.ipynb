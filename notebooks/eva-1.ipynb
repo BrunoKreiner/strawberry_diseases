{
 "cells": [
  {
   "attachments": {},
   "cell_type": "markdown",
   "metadata": {},
   "source": [
    "# EVA\n",
    "## First create a COCO dataformat dataset"
   ]
  },
  {
   "cell_type": "code",
   "execution_count": null,
   "metadata": {},
   "outputs": [],
   "source": [
    "import os\n",
    "import json\n",
    "import cv2\n",
    "import numpy as np\n",
    "from glob import glob\n",
    "\n",
    "def create_annotation(points, image_id, category_id, annotation_id):\n",
    "    segmentation = [p for sublist in points for p in sublist]\n",
    "    # bounding box calculation\n",
    "    bbox = [min(points, key=lambda x:x[0])[0], min(points, key=lambda x:x[1])[1], max(points, key=lambda x:x[0])[0]-min(points, key=lambda x:x[0])[0], max(points, key=lambda x:x[1])[1]-min(points, key=lambda x:x[1])[1]]\n",
    "    area = cv2.contourArea(np.array(points).astype(np.float32))\n",
    "\n",
    "    annotation = {\n",
    "        \"segmentation\": [segmentation],\n",
    "        \"bbox\": bbox,\n",
    "        \"area\": area,\n",
    "        \"iscrowd\": 0,\n",
    "        \"image_id\": image_id,\n",
    "        \"category_id\": category_id,\n",
    "        \"id\": annotation_id\n",
    "    }\n",
    "    return annotation\n",
    "\n",
    "labelme_path = \"../strawberry/train/\"\n",
    "annotation_files = glob(os.path.join(labelme_path, \"*.json\"))\n",
    "\n",
    "categories_dict = {}\n",
    "images = []\n",
    "annotations = []\n",
    "for i, file in enumerate(annotation_files):\n",
    "    with open(file) as f:\n",
    "        data = json.load(f)\n",
    "\n",
    "    image = {\n",
    "        \"file_name\": data['imagePath'],\n",
    "        \"height\": data['imageHeight'],\n",
    "        \"width\": data['imageWidth'],\n",
    "        \"id\": i\n",
    "    }\n",
    "    images.append(image)\n",
    "\n",
    "    for shape in data['shapes']:\n",
    "        if shape['label'] not in categories_dict:\n",
    "            categories_dict[shape['label']] = len(categories_dict) + 1\n",
    "        annotation = create_annotation(shape['points'], i, categories_dict[shape['label']], len(annotations) + 1)\n",
    "        annotations.append(annotation)\n",
    "\n",
    "categories = [{\"id\": value, \"name\": key} for key, value in categories_dict.items()]\n",
    "\n",
    "coco_format = {\n",
    "    \"images\": images,\n",
    "    \"annotations\": annotations,\n",
    "    \"categories\": categories\n",
    "}\n",
    "\n",
    "with open('../strawberry/output.json', 'w') as f:\n",
    "    json.dump(coco_format, f)\n"
   ]
  },
  {
   "attachments": {},
   "cell_type": "markdown",
   "metadata": {},
   "source": [
    "## Check if torch and cuda version is correct"
   ]
  },
  {
   "cell_type": "code",
   "execution_count": 12,
   "metadata": {},
   "outputs": [
    {
     "name": "stdout",
     "output_type": "stream",
     "text": [
      "11.1\n",
      "1.9.0+cu111\n"
     ]
    }
   ],
   "source": [
    "import torch\n",
    "print(torch.version.cuda)\n",
    "print(torch.__version__)"
   ]
  },
  {
   "cell_type": "code",
   "execution_count": 7,
   "metadata": {},
   "outputs": [
    {
     "data": {
      "text/plain": [
       "'/'"
      ]
     },
     "execution_count": 7,
     "metadata": {},
     "output_type": "execute_result"
    }
   ],
   "source": [
    "import os\n",
    "os.getcwd()"
   ]
  },
  {
   "cell_type": "code",
   "execution_count": 13,
   "metadata": {},
   "outputs": [
    {
     "name": "stdout",
     "output_type": "stream",
     "text": [
      "Looking in links: https://dl.fbaipublicfiles.com/detectron2/wheels/cu111/torch1.9/index.html\n",
      "Collecting detectron2\n",
      "  Downloading https://dl.fbaipublicfiles.com/detectron2/wheels/cu111/torch1.9/detectron2-0.6%2Bcu111-cp38-cp38-linux_x86_64.whl (6.9 MB)\n",
      "\u001b[2K     \u001b[90m━━━━━━━━━━━━━━━━━━━━━━━━━━━━━━━━━━━━━━━━\u001b[0m \u001b[32m6.9/6.9 MB\u001b[0m \u001b[31m40.0 MB/s\u001b[0m eta \u001b[36m0:00:00\u001b[0m00:01\u001b[0m00:01\u001b[0m\n",
      "\u001b[?25hRequirement already satisfied: Pillow>=7.1 in /usr/local/lib/python3.8/dist-packages (from detectron2) (9.5.0)\n",
      "Requirement already satisfied: matplotlib in /usr/local/lib/python3.8/dist-packages (from detectron2) (3.5.3)\n",
      "Requirement already satisfied: pycocotools>=2.0.2 in /usr/local/lib/python3.8/dist-packages (from detectron2) (2.0.6)\n",
      "Requirement already satisfied: termcolor>=1.1 in /usr/local/lib/python3.8/dist-packages (from detectron2) (2.2.0)\n",
      "Requirement already satisfied: yacs>=0.1.8 in /usr/local/lib/python3.8/dist-packages (from detectron2) (0.1.8)\n",
      "Requirement already satisfied: tabulate in /usr/local/lib/python3.8/dist-packages (from detectron2) (0.9.0)\n",
      "Requirement already satisfied: cloudpickle in /usr/local/lib/python3.8/dist-packages (from detectron2) (2.2.1)\n",
      "Requirement already satisfied: tqdm>4.29.0 in /usr/local/lib/python3.8/dist-packages (from detectron2) (4.62.3)\n",
      "Requirement already satisfied: tensorboard in /usr/local/lib/python3.8/dist-packages (from detectron2) (2.7.0)\n",
      "Requirement already satisfied: fvcore<0.1.6,>=0.1.5 in /usr/local/lib/python3.8/dist-packages (from detectron2) (0.1.5.post20211023)\n",
      "Requirement already satisfied: iopath<0.1.10,>=0.1.7 in /usr/local/lib/python3.8/dist-packages (from detectron2) (0.1.9)\n",
      "Requirement already satisfied: future in /usr/local/lib/python3.8/dist-packages (from detectron2) (0.18.3)\n",
      "Requirement already satisfied: pydot in /usr/local/lib/python3.8/dist-packages (from detectron2) (1.4.2)\n",
      "Requirement already satisfied: omegaconf>=2.1 in /usr/local/lib/python3.8/dist-packages (from detectron2) (2.3.0)\n",
      "Requirement already satisfied: hydra-core>=1.1 in /usr/local/lib/python3.8/dist-packages (from detectron2) (1.3.2)\n",
      "Collecting black==21.4b2 (from detectron2)\n",
      "  Downloading black-21.4b2-py3-none-any.whl (130 kB)\n",
      "\u001b[2K     \u001b[90m━━━━━━━━━━━━━━━━━━━━━━━━━━━━━━━━━━━━━━━\u001b[0m \u001b[32m131.0/131.0 kB\u001b[0m \u001b[31m2.0 MB/s\u001b[0m eta \u001b[36m0:00:00\u001b[0ma \u001b[36m0:00:01\u001b[0m\n",
      "\u001b[?25hRequirement already satisfied: click>=7.1.2 in /usr/local/lib/python3.8/dist-packages (from black==21.4b2->detectron2) (8.1.3)\n",
      "Collecting appdirs (from black==21.4b2->detectron2)\n",
      "  Downloading appdirs-1.4.4-py2.py3-none-any.whl (9.6 kB)\n",
      "Collecting toml>=0.10.1 (from black==21.4b2->detectron2)\n",
      "  Downloading toml-0.10.2-py2.py3-none-any.whl (16 kB)\n",
      "Collecting regex>=2020.1.8 (from black==21.4b2->detectron2)\n",
      "  Downloading regex-2023.5.5-cp38-cp38-manylinux_2_17_x86_64.manylinux2014_x86_64.whl (771 kB)\n",
      "\u001b[2K     \u001b[90m━━━━━━━━━━━━━━━━━━━━━━━━━━━━━━━━━━━━━━━\u001b[0m \u001b[32m771.9/771.9 kB\u001b[0m \u001b[31m9.8 MB/s\u001b[0m eta \u001b[36m0:00:00\u001b[0m00:01\u001b[0m00:01\u001b[0m\n",
      "\u001b[?25hRequirement already satisfied: pathspec<1,>=0.8.1 in /usr/local/lib/python3.8/dist-packages (from black==21.4b2->detectron2) (0.11.1)\n",
      "Requirement already satisfied: mypy-extensions>=0.4.3 in /usr/local/lib/python3.8/dist-packages (from black==21.4b2->detectron2) (1.0.0)\n",
      "Requirement already satisfied: numpy in /usr/local/lib/python3.8/dist-packages (from fvcore<0.1.6,>=0.1.5->detectron2) (1.24.2)\n",
      "Requirement already satisfied: pyyaml>=5.1 in /usr/local/lib/python3.8/dist-packages (from fvcore<0.1.6,>=0.1.5->detectron2) (6.0)\n",
      "Requirement already satisfied: antlr4-python3-runtime==4.9.* in /usr/local/lib/python3.8/dist-packages (from hydra-core>=1.1->detectron2) (4.9.3)\n",
      "Requirement already satisfied: packaging in /usr/local/lib/python3.8/dist-packages (from hydra-core>=1.1->detectron2) (23.0)\n",
      "Requirement already satisfied: importlib-resources in /usr/local/lib/python3.8/dist-packages (from hydra-core>=1.1->detectron2) (5.12.0)\n",
      "Requirement already satisfied: portalocker in /usr/local/lib/python3.8/dist-packages (from iopath<0.1.10,>=0.1.7->detectron2) (2.7.0)\n",
      "Requirement already satisfied: cycler>=0.10 in /usr/local/lib/python3.8/dist-packages (from matplotlib->detectron2) (0.11.0)\n",
      "Requirement already satisfied: fonttools>=4.22.0 in /usr/local/lib/python3.8/dist-packages (from matplotlib->detectron2) (4.39.3)\n",
      "Requirement already satisfied: kiwisolver>=1.0.1 in /usr/local/lib/python3.8/dist-packages (from matplotlib->detectron2) (1.4.4)\n",
      "Requirement already satisfied: pyparsing>=2.2.1 in /usr/local/lib/python3.8/dist-packages (from matplotlib->detectron2) (3.0.9)\n",
      "Requirement already satisfied: python-dateutil>=2.7 in /usr/local/lib/python3.8/dist-packages (from matplotlib->detectron2) (2.8.2)\n",
      "Requirement already satisfied: absl-py>=0.4 in /usr/local/lib/python3.8/dist-packages (from tensorboard->detectron2) (1.4.0)\n",
      "Requirement already satisfied: grpcio>=1.24.3 in /usr/local/lib/python3.8/dist-packages (from tensorboard->detectron2) (1.53.0)\n",
      "Requirement already satisfied: google-auth<3,>=1.6.3 in /usr/local/lib/python3.8/dist-packages (from tensorboard->detectron2) (2.17.2)\n",
      "Requirement already satisfied: google-auth-oauthlib<0.5,>=0.4.1 in /usr/local/lib/python3.8/dist-packages (from tensorboard->detectron2) (0.4.6)\n",
      "Requirement already satisfied: markdown>=2.6.8 in /usr/local/lib/python3.8/dist-packages (from tensorboard->detectron2) (3.4.3)\n",
      "Requirement already satisfied: protobuf>=3.6.0 in /usr/local/lib/python3.8/dist-packages (from tensorboard->detectron2) (3.20.3)\n",
      "Requirement already satisfied: requests<3,>=2.21.0 in /usr/lib/python3/dist-packages (from tensorboard->detectron2) (2.22.0)\n",
      "Requirement already satisfied: setuptools>=41.0.0 in /usr/local/lib/python3.8/dist-packages (from tensorboard->detectron2) (67.6.1)\n",
      "Requirement already satisfied: tensorboard-data-server<0.7.0,>=0.6.0 in /usr/local/lib/python3.8/dist-packages (from tensorboard->detectron2) (0.6.1)\n",
      "Requirement already satisfied: tensorboard-plugin-wit>=1.6.0 in /usr/local/lib/python3.8/dist-packages (from tensorboard->detectron2) (1.8.1)\n",
      "Requirement already satisfied: werkzeug>=0.11.15 in /usr/local/lib/python3.8/dist-packages (from tensorboard->detectron2) (2.2.3)\n",
      "Requirement already satisfied: wheel>=0.26 in /usr/local/lib/python3.8/dist-packages (from tensorboard->detectron2) (0.40.0)\n",
      "Requirement already satisfied: cachetools<6.0,>=2.0.0 in /usr/local/lib/python3.8/dist-packages (from google-auth<3,>=1.6.3->tensorboard->detectron2) (5.3.0)\n",
      "Requirement already satisfied: pyasn1-modules>=0.2.1 in /usr/local/lib/python3.8/dist-packages (from google-auth<3,>=1.6.3->tensorboard->detectron2) (0.2.8)\n",
      "Requirement already satisfied: six>=1.9.0 in /usr/lib/python3/dist-packages (from google-auth<3,>=1.6.3->tensorboard->detectron2) (1.14.0)\n",
      "Requirement already satisfied: rsa<5,>=3.1.4 in /usr/local/lib/python3.8/dist-packages (from google-auth<3,>=1.6.3->tensorboard->detectron2) (4.9)\n",
      "Requirement already satisfied: requests-oauthlib>=0.7.0 in /usr/local/lib/python3.8/dist-packages (from google-auth-oauthlib<0.5,>=0.4.1->tensorboard->detectron2) (1.3.1)\n",
      "Requirement already satisfied: importlib-metadata>=4.4 in /usr/local/lib/python3.8/dist-packages (from markdown>=2.6.8->tensorboard->detectron2) (6.1.0)\n",
      "Requirement already satisfied: MarkupSafe>=2.1.1 in /usr/local/lib/python3.8/dist-packages (from werkzeug>=0.11.15->tensorboard->detectron2) (2.1.2)\n",
      "Requirement already satisfied: zipp>=3.1.0 in /usr/local/lib/python3.8/dist-packages (from importlib-resources->hydra-core>=1.1->detectron2) (3.15.0)\n",
      "Requirement already satisfied: pyasn1<0.5.0,>=0.4.6 in /usr/local/lib/python3.8/dist-packages (from pyasn1-modules>=0.2.1->google-auth<3,>=1.6.3->tensorboard->detectron2) (0.4.8)\n",
      "Requirement already satisfied: oauthlib>=3.0.0 in /usr/local/lib/python3.8/dist-packages (from requests-oauthlib>=0.7.0->google-auth-oauthlib<0.5,>=0.4.1->tensorboard->detectron2) (3.2.2)\n",
      "Installing collected packages: appdirs, toml, regex, black, detectron2\n",
      "  Attempting uninstall: black\n",
      "    Found existing installation: black 22.3.0\n",
      "    Uninstalling black-22.3.0:\n",
      "      Successfully uninstalled black-22.3.0\n",
      "Successfully installed appdirs-1.4.4 black-21.4b2 detectron2-0.6+cu111 regex-2023.5.5 toml-0.10.2\n",
      "\u001b[33mWARNING: Running pip as the 'root' user can result in broken permissions and conflicting behaviour with the system package manager. It is recommended to use a virtual environment instead: https://pip.pypa.io/warnings/venv\u001b[0m\u001b[33m\n",
      "\u001b[0m"
     ]
    }
   ],
   "source": [
    "!python -m pip install detectron2 -f \\\n",
    "  https://dl.fbaipublicfiles.com/detectron2/wheels/cu111/torch1.9/index.html"
   ]
  },
  {
   "cell_type": "code",
   "execution_count": 14,
   "metadata": {},
   "outputs": [
    {
     "name": "stdout",
     "output_type": "stream",
     "text": [
      "Traceback (most recent call last):\n",
      "  File \"app//EVA/EVA-01/det/tools/lazyconfig_train_net.py\", line 125, in <module>\n",
      "    launch(\n",
      "  File \"/usr/local/lib/python3.8/dist-packages/detectron2/engine/launch.py\", line 82, in launch\n",
      "    main_func(*args)\n",
      "  File \"app//EVA/EVA-01/det/tools/lazyconfig_train_net.py\", line 109, in main\n",
      "    cfg = LazyConfig.load(args.config_file)\n",
      "  File \"/usr/local/lib/python3.8/dist-packages/detectron2/config/lazy.py\", line 210, in load\n",
      "    exec(compile(content, filename, \"exec\"), module_namespace)\n",
      "  File \"app/EVA/EVA-01/det/projects/ViTDet/configs/COCO/cascade_mask_rcnn_vitdet_eva_1536.py\", line 4, in <module>\n",
      "    from .cascade_mask_rcnn_vitdet_b_100ep import (\n",
      "  File \"/usr/local/lib/python3.8/dist-packages/detectron2/config/lazy.py\", line 148, in new_import\n",
      "    exec(compile(content, cur_file, \"exec\"), module.__dict__)\n",
      "  File \"app/EVA/EVA-01/det/projects/ViTDet/configs/COCO/cascade_mask_rcnn_vitdet_b_100ep.py\", line 11, in <module>\n",
      "    from .mask_rcnn_vitdet_b_100ep import (\n",
      "  File \"/usr/local/lib/python3.8/dist-packages/detectron2/config/lazy.py\", line 148, in new_import\n",
      "    exec(compile(content, cur_file, \"exec\"), module.__dict__)\n",
      "  File \"app/EVA/EVA-01/det/projects/ViTDet/configs/COCO/mask_rcnn_vitdet_b_100ep.py\", line 7, in <module>\n",
      "    from detectron2.modeling.backbone.vit import get_vit_lr_decay_rate\n",
      "  File \"/usr/local/lib/python3.8/dist-packages/detectron2/config/lazy.py\", line 153, in new_import\n",
      "    return old_import(name, globals, locals, fromlist=fromlist, level=level)\n",
      "ModuleNotFoundError: No module named 'detectron2.modeling.backbone.vit'\n"
     ]
    }
   ],
   "source": [
    "!python app//EVA/EVA-01/det/tools/lazyconfig_train_net.py \\\n",
    "    --eval-only \\\n",
    "    --config-file app/EVA/EVA-01/det/projects/ViTDet/configs/COCO/cascade_mask_rcnn_vitdet_eva_1536.py \\\n",
    "    \"train.init_checkpoint=../models/eva_0356.pth\" \\\n",
    "    \"model.roi_heads.use_soft_nms=True\" \\\n",
    "    'model.roi_heads.method=\"linear\"' \\\n",
    "    \"model.roi_heads.iou_threshold=0.6\" \\\n",
    "    \"model.roi_heads.override_score_thresh=0.0\""
   ]
  }
 ],
 "metadata": {
  "kernelspec": {
   "display_name": "Python 3",
   "language": "python",
   "name": "python3"
  },
  "language_info": {
   "codemirror_mode": {
    "name": "ipython",
    "version": 3
   },
   "file_extension": ".py",
   "mimetype": "text/x-python",
   "name": "python",
   "nbconvert_exporter": "python",
   "pygments_lexer": "ipython3",
   "version": "3.8.10"
  },
  "orig_nbformat": 4
 },
 "nbformat": 4,
 "nbformat_minor": 2
}
